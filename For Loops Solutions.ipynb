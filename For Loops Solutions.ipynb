{
 "cells": [
  {
   "cell_type": "markdown",
   "metadata": {},
   "source": [
    "# For Loops\n",
    "&copy; QuantSprout"
   ]
  },
  {
   "cell_type": "markdown",
   "metadata": {},
   "source": [
    "Create a for loop"
   ]
  },
  {
   "cell_type": "code",
   "execution_count": 1,
   "metadata": {},
   "outputs": [
    {
     "name": "stdout",
     "output_type": "stream",
     "text": [
      "1\n",
      "2\n",
      "3\n"
     ]
    }
   ],
   "source": [
    "for x in [1,2,3]: \n",
    "    print(x)"
   ]
  },
  {
   "cell_type": "markdown",
   "metadata": {},
   "source": [
    "Create a for loop with range"
   ]
  },
  {
   "cell_type": "code",
   "execution_count": 2,
   "metadata": {},
   "outputs": [
    {
     "name": "stdout",
     "output_type": "stream",
     "text": [
      "100\n",
      "225\n",
      "400\n",
      "625\n",
      "900\n",
      "1225\n",
      "1600\n",
      "2025\n",
      "2500\n",
      "3025\n",
      "3600\n",
      "4225\n",
      "4900\n",
      "5625\n",
      "6400\n",
      "7225\n",
      "8100\n",
      "9025\n"
     ]
    }
   ],
   "source": [
    "for x in range(10,100,5):\n",
    "    print(x ** 2)"
   ]
  },
  {
   "cell_type": "markdown",
   "metadata": {},
   "source": [
    "Create a for loop with multiple values"
   ]
  },
  {
   "cell_type": "code",
   "execution_count": 3,
   "metadata": {},
   "outputs": [
    {
     "name": "stdout",
     "output_type": "stream",
     "text": [
      "7.96\n",
      "14.950000000000001\n",
      "23.94\n"
     ]
    }
   ],
   "source": [
    "for price, quantity in [[1.99,4],[2.99,5],[3.99,6]]:\n",
    "    print (price * quantity)"
   ]
  },
  {
   "cell_type": "markdown",
   "metadata": {},
   "source": [
    "Capture the all the results of a for loop"
   ]
  },
  {
   "cell_type": "code",
   "execution_count": 4,
   "metadata": {},
   "outputs": [
    {
     "data": {
      "text/plain": [
       "[100, 400, 900]"
      ]
     },
     "execution_count": 4,
     "metadata": {},
     "output_type": "execute_result"
    }
   ],
   "source": [
    "results = []\n",
    "for x in [10,20,30]:\n",
    "    squared = x ** 2\n",
    "    results.append(squared)\n",
    "results"
   ]
  },
  {
   "cell_type": "markdown",
   "metadata": {},
   "source": [
    "Create a for loop in a function"
   ]
  },
  {
   "cell_type": "code",
   "execution_count": 5,
   "metadata": {},
   "outputs": [],
   "source": [
    "def square_list(values):\n",
    "    results = []\n",
    "    for x in values:\n",
    "        squared = x **2\n",
    "        results.append(squared)\n",
    "    return results"
   ]
  },
  {
   "cell_type": "code",
   "execution_count": 6,
   "metadata": {},
   "outputs": [
    {
     "data": {
      "text/plain": [
       "[1, 4, 9, 16]"
      ]
     },
     "execution_count": 6,
     "metadata": {},
     "output_type": "execute_result"
    }
   ],
   "source": [
    "square_list([1,2,3,4])"
   ]
  },
  {
   "cell_type": "markdown",
   "metadata": {},
   "source": [
    "### Exercise\n",
    "#### 1.  Update your temperature conversion function from the Python Fundamentals exercise to accept a list of Celsius temperatures and return a list of Fahrenheit temperatures "
   ]
  },
  {
   "cell_type": "code",
   "execution_count": 7,
   "metadata": {},
   "outputs": [],
   "source": [
    "def convert_temp_list(celsius_list):\n",
    "    fahrenheit_list = []\n",
    "    for c in celsius_list:\n",
    "        f = c * 1.8 + 32.0\n",
    "        fahrenheit_list.append(f)\n",
    "    return fahrenheit_list"
   ]
  },
  {
   "cell_type": "code",
   "execution_count": 8,
   "metadata": {},
   "outputs": [
    {
     "data": {
      "text/plain": [
       "[32.0, 86.0, 212.0, 41.0, 23.0, 14.0]"
      ]
     },
     "execution_count": 8,
     "metadata": {},
     "output_type": "execute_result"
    }
   ],
   "source": [
    "convert_temp_list([0,30,100,5,-5,-10])"
   ]
  },
  {
   "cell_type": "code",
   "execution_count": 15,
   "metadata": {},
   "outputs": [],
   "source": [
    "def convert_temp(c):\n",
    "    f = c * 1.8 + 32\n",
    "    return \"{0} C = {1} F\".format(c, f)\n",
    "\n",
    "def convert_temp_list2(celsius_list):\n",
    "    fahrenheit_list = []\n",
    "    for c in celsius_list:\n",
    "        f = convert_temp(c)\n",
    "        fahrenheit_list.append(f)\n",
    "    return fahrenheit_list"
   ]
  },
  {
   "cell_type": "code",
   "execution_count": 16,
   "metadata": {},
   "outputs": [
    {
     "data": {
      "text/plain": [
       "['0 C = 32.0 F', '30 C = 86.0 F', '100 C = 212.0 F']"
      ]
     },
     "execution_count": 16,
     "metadata": {},
     "output_type": "execute_result"
    }
   ],
   "source": [
    "convert_temp_list2([0,30,100])"
   ]
  },
  {
   "cell_type": "markdown",
   "metadata": {},
   "source": [
    "#### 2. Add error handling to your temperature conversion function to be able to process data types that aren’t numeric.\n"
   ]
  },
  {
   "cell_type": "code",
   "execution_count": 11,
   "metadata": {},
   "outputs": [],
   "source": [
    "def convert_temp_check(c):\n",
    "    if (type(c) == int) | (type(c) == float):\n",
    "        f = c * 1.8 + 32\n",
    "        return \"{0} C = {1} F\".format(c, f)\n",
    "    else:\n",
    "        return \"Error. {} is a non-numeric value.\".format(c)\n",
    "    \n",
    "def convert_temp_list3(celsius_list):\n",
    "    fahrenheit_list = []\n",
    "    for c in celsius_list:\n",
    "        f = convert_temp_check(c)\n",
    "        fahrenheit_list.append(f)\n",
    "    return fahrenheit_list"
   ]
  },
  {
   "cell_type": "code",
   "execution_count": 12,
   "metadata": {},
   "outputs": [
    {
     "data": {
      "text/plain": [
       "['0 C = 32.0 F',\n",
       " '30 C = 86.0 F',\n",
       " '100 C = 212.0 F',\n",
       " 'Error. cat is a non-numeric value.']"
      ]
     },
     "execution_count": 12,
     "metadata": {},
     "output_type": "execute_result"
    }
   ],
   "source": [
    "convert_temp_list3([0,30,100,'cat'])"
   ]
  },
  {
   "cell_type": "code",
   "execution_count": 13,
   "metadata": {},
   "outputs": [],
   "source": [
    "def convert_temp_list4(celsius_list):\n",
    "    fahrenheit_list = []\n",
    "    for c in celsius_list:\n",
    "        if (type(c) == int) | (type(c) == float):\n",
    "            f = c * 1.8 + 32\n",
    "            fahrenheit_list.append(f)\n",
    "        else:\n",
    "            fahrenheit_list.append(\"Error. {} is a non-numeric value.\".format(c))\n",
    "    return fahrenheit_list"
   ]
  },
  {
   "cell_type": "code",
   "execution_count": 14,
   "metadata": {},
   "outputs": [
    {
     "data": {
      "text/plain": [
       "[32.0, 86.0, 212.0, 'Error. cat is a non-numeric value.']"
      ]
     },
     "execution_count": 14,
     "metadata": {},
     "output_type": "execute_result"
    }
   ],
   "source": [
    "convert_temp_list4((0,30,100,'cat'))"
   ]
  },
  {
   "cell_type": "code",
   "execution_count": null,
   "metadata": {},
   "outputs": [],
   "source": []
  }
 ],
 "metadata": {
  "anaconda-cloud": {},
  "kernelspec": {
   "display_name": "Python 3",
   "language": "python",
   "name": "python3"
  },
  "language_info": {
   "codemirror_mode": {
    "name": "ipython",
    "version": 3
   },
   "file_extension": ".py",
   "mimetype": "text/x-python",
   "name": "python",
   "nbconvert_exporter": "python",
   "pygments_lexer": "ipython3",
   "version": "3.6.8"
  }
 },
 "nbformat": 4,
 "nbformat_minor": 1
}
